{
 "cells": [
  {
   "cell_type": "markdown",
   "id": "f54b3382",
   "metadata": {},
   "source": [
    "# Finding sum of first n natural number"
   ]
  },
  {
   "cell_type": "markdown",
   "id": "ee6d16a8",
   "metadata": {},
   "source": [
    "https://practice.geeksforgeeks.org/batch/ds-with-python/track/analysis-of-algorithms-basics-python/video/MjA1MA%3D%3D"
   ]
  },
  {
   "cell_type": "code",
   "execution_count": 1,
   "id": "47c0c9f0",
   "metadata": {},
   "outputs": [
    {
     "data": {
      "text/plain": [
       "15"
      ]
     },
     "execution_count": 1,
     "metadata": {},
     "output_type": "execute_result"
    }
   ],
   "source": [
    "# method 1\n",
    "\n",
    "def function(n):\n",
    "    s = 0\n",
    "    for i in range(1, n+1):\n",
    "        s = s+i\n",
    "    return s\n",
    "\n",
    "function(5)"
   ]
  },
  {
   "cell_type": "code",
   "execution_count": 2,
   "id": "51e1e76f",
   "metadata": {},
   "outputs": [
    {
     "data": {
      "text/plain": [
       "15.0"
      ]
     },
     "execution_count": 2,
     "metadata": {},
     "output_type": "execute_result"
    }
   ],
   "source": [
    "# method 2\n",
    "\n",
    "def function(n):\n",
    "    return n*(n+1)/2\n",
    "\n",
    "function(5)"
   ]
  },
  {
   "cell_type": "code",
   "execution_count": 3,
   "id": "fce9be55",
   "metadata": {},
   "outputs": [
    {
     "data": {
      "text/plain": [
       "15"
      ]
     },
     "execution_count": 3,
     "metadata": {},
     "output_type": "execute_result"
    }
   ],
   "source": [
    "# method 2\n",
    "def function(n):\n",
    "    s = 0\n",
    "    for i in range(1, n+1):\n",
    "        for j in range(1, i+1):\n",
    "            s = s+1\n",
    "    return s\n",
    "\n",
    "function(5)"
   ]
  },
  {
   "cell_type": "code",
   "execution_count": 13,
   "id": "feb74a4f",
   "metadata": {},
   "outputs": [
    {
     "data": {
      "text/plain": [
       "21"
      ]
     },
     "execution_count": 13,
     "metadata": {},
     "output_type": "execute_result"
    }
   ],
   "source": [
    "def findSum(n):\n",
    "    sum = 0\n",
    "    x = 1\n",
    "    while x<=n:\n",
    "        sum = sum+x\n",
    "        x = x+1\n",
    "    return sum\n",
    "\n",
    "findSum(6)"
   ]
  },
  {
   "cell_type": "code",
   "execution_count": 18,
   "id": "51599186",
   "metadata": {},
   "outputs": [
    {
     "data": {
      "text/plain": [
       "15.0"
      ]
     },
     "execution_count": 18,
     "metadata": {},
     "output_type": "execute_result"
    }
   ],
   "source": [
    "def findSum(n):\n",
    "    if (n%2)==0:\n",
    "        return (n/2) * (n+1)\n",
    "    else :\n",
    "        return ((n+1)/2)*n\n",
    "    \n",
    "findSum(5)"
   ]
  },
  {
   "cell_type": "markdown",
   "id": "7e05a499",
   "metadata": {},
   "source": [
    "# Absolute Number"
   ]
  },
  {
   "cell_type": "markdown",
   "id": "85189074",
   "metadata": {},
   "source": [
    "https://practice.geeksforgeeks.org/batch/ds-with-python/track/mathematics-basics-python/problem/absolute-value"
   ]
  },
  {
   "cell_type": "markdown",
   "id": "b88ef5e5",
   "metadata": {},
   "source": [
    "######  Counting the digits present in a Number"
   ]
  },
  {
   "cell_type": "code",
   "execution_count": 21,
   "id": "819706ca",
   "metadata": {},
   "outputs": [
    {
     "data": {
      "text/plain": [
       "6"
      ]
     },
     "execution_count": 21,
     "metadata": {},
     "output_type": "execute_result"
    }
   ],
   "source": [
    "# counting the digits\n",
    "a = 546456\n",
    "\n",
    "len(str(a))"
   ]
  },
  {
   "cell_type": "code",
   "execution_count": 25,
   "id": "6009706d",
   "metadata": {},
   "outputs": [
    {
     "name": "stdout",
     "output_type": "stream",
     "text": [
      "Enter a Number : 654856584\n"
     ]
    },
    {
     "data": {
      "text/plain": [
       "9"
      ]
     },
     "execution_count": 25,
     "metadata": {},
     "output_type": "execute_result"
    }
   ],
   "source": [
    "# counting the digits\n",
    "\n",
    "x = int(input(\"Enter a Number : \"))\n",
    "\n",
    "count = 0\n",
    "\n",
    "while x>0:\n",
    "    x//=10\n",
    "    count+=1\n",
    "count"
   ]
  },
  {
   "cell_type": "markdown",
   "id": "fe5d5496",
   "metadata": {},
   "source": [
    "# Palindrome Number "
   ]
  },
  {
   "cell_type": "code",
   "execution_count": 34,
   "id": "dfaac575",
   "metadata": {},
   "outputs": [
    {
     "name": "stdout",
     "output_type": "stream",
     "text": [
      "ye Palindrome number nahi hai\n"
     ]
    }
   ],
   "source": [
    "# Checking the Palindrome \n",
    "a = 54566445\n",
    "\n",
    "if a == int(str(a)[::-1]):\n",
    "    print(\"ye Palindrome Number hai\")\n",
    "else :\n",
    "    print(\"ye Palindrome number nahi hai\")"
   ]
  },
  {
   "cell_type": "code",
   "execution_count": 50,
   "id": "6cd6e810",
   "metadata": {},
   "outputs": [
    {
     "data": {
      "text/plain": [
       "True"
      ]
     },
     "execution_count": 50,
     "metadata": {},
     "output_type": "execute_result"
    }
   ],
   "source": [
    "# Checking the Palindrome \n",
    "def isPal(N):\n",
    "    rev = 0\n",
    "    temp = N\n",
    "    while temp != 0:\n",
    "        ld = temp%10\n",
    "        rev = rev*10+ld\n",
    "        temp = temp//10\n",
    "    return rev == N\n",
    "\n",
    "isPal(45654)"
   ]
  },
  {
   "cell_type": "markdown",
   "id": "824b1a7c",
   "metadata": {},
   "source": [
    "# Factorial"
   ]
  },
  {
   "cell_type": "code",
   "execution_count": 56,
   "id": "54d36021",
   "metadata": {},
   "outputs": [
    {
     "data": {
      "text/plain": [
       "24"
      ]
     },
     "execution_count": 56,
     "metadata": {},
     "output_type": "execute_result"
    }
   ],
   "source": [
    "# Finding Factorial\n",
    "\n",
    "def fact(n):\n",
    "    fac = 1\n",
    "    for i in range(1,n+1):\n",
    "        fac = fac*i\n",
    "    return fac\n",
    "        \n",
    "fact(4)"
   ]
  },
  {
   "cell_type": "code",
   "execution_count": 3,
   "id": "29791fe9",
   "metadata": {},
   "outputs": [
    {
     "data": {
      "text/plain": [
       "120"
      ]
     },
     "execution_count": 3,
     "metadata": {},
     "output_type": "execute_result"
    }
   ],
   "source": [
    "# Finding the Factorial\n",
    "def fact(n):\n",
    "    if n==0:\n",
    "        return 1\n",
    "    return fact(n-1)*n\n",
    "\n",
    "fact(5)"
   ]
  },
  {
   "cell_type": "code",
   "execution_count": 4,
   "id": "e0590ebc",
   "metadata": {},
   "outputs": [
    {
     "data": {
      "text/plain": [
       "120"
      ]
     },
     "execution_count": 4,
     "metadata": {},
     "output_type": "execute_result"
    }
   ],
   "source": [
    "def factorial(n):\n",
    "    return 1 if (n==1 or n==0) else n * factorial(n - 1);\n",
    "\n",
    "factorial(5)"
   ]
  },
  {
   "cell_type": "code",
   "execution_count": 36,
   "id": "e48614f2",
   "metadata": {},
   "outputs": [
    {
     "data": {
      "text/plain": [
       "93326215443944152681699238856266700490715968264381621468592963895217599993229915608941463976156518286253697920827223758251185210916864000000000000000000000000"
      ]
     },
     "execution_count": 36,
     "metadata": {},
     "output_type": "execute_result"
    }
   ],
   "source": [
    "def factorial(n):\n",
    "    if n < 0:\n",
    "        return 0\n",
    "    elif n == 0 or n == 1:\n",
    "        return 1\n",
    "    else:\n",
    "        fact = 1\n",
    "        while(n > 1):\n",
    "            fact *= n\n",
    "            n -= 1\n",
    "        return fact\n",
    "\n",
    "factorial(100)\n"
   ]
  },
  {
   "cell_type": "code",
   "execution_count": 15,
   "id": "f5684571",
   "metadata": {},
   "outputs": [
    {
     "data": {
      "text/plain": [
       "3"
      ]
     },
     "execution_count": 15,
     "metadata": {},
     "output_type": "execute_result"
    }
   ],
   "source": [
    "# Finding the count of the digits in a factorial\n",
    "import math\n",
    "def digitsInFactorial(N):\n",
    "    # code here\n",
    "    if N < 0:\n",
    "        return 0\n",
    "    elif N==1 or N==0:\n",
    "        return 1\n",
    "\n",
    "    # Use Stirling's approximation to estimate the value of N!\n",
    "    x = (N * math.log10(N / math.e)) + (math.log10(2 * math.pi * N) / 2)\n",
    "\n",
    "    # Take the floor of the result plus 1 to get the number of digits in N!\n",
    "    return math.floor(x) + 1\n",
    "\n",
    "digitsInFactorial(5)"
   ]
  },
  {
   "cell_type": "code",
   "execution_count": 39,
   "id": "fcda74f4",
   "metadata": {},
   "outputs": [
    {
     "data": {
      "text/plain": [
       "24"
      ]
     },
     "execution_count": 39,
     "metadata": {},
     "output_type": "execute_result"
    }
   ],
   "source": [
    "# counting the trailing 0's in the a factorial number \n",
    "\n",
    "def fact(N):\n",
    "    fac = 1\n",
    "    for i in range(2, N+1):\n",
    "        fac *= i\n",
    "    count = 0\n",
    "    for i in str(fac)[::-1]:\n",
    "        if i==\"0\":\n",
    "            count+=1\n",
    "        else :\n",
    "            break\n",
    "    return count\n",
    "\n",
    "fact(100)"
   ]
  },
  {
   "cell_type": "code",
   "execution_count": 66,
   "id": "621f0050",
   "metadata": {},
   "outputs": [
    {
     "data": {
      "text/plain": [
       "24"
      ]
     },
     "execution_count": 66,
     "metadata": {},
     "output_type": "execute_result"
    }
   ],
   "source": [
    "# Counting the trainling 0's present in the Factorial\n",
    "\n",
    "def countZeros(n):\n",
    "    fact = 1\n",
    "    for i in range(2, n+1):\n",
    "        fact = fact*i\n",
    "    res = 0\n",
    "    while fact%10==0:\n",
    "        res+=1\n",
    "        fact//=10\n",
    "    return res\n",
    "\n",
    "countZeros(100)"
   ]
  },
  {
   "cell_type": "code",
   "execution_count": 8,
   "id": "94e363b1",
   "metadata": {},
   "outputs": [
    {
     "data": {
      "text/plain": [
       "24"
      ]
     },
     "execution_count": 8,
     "metadata": {},
     "output_type": "execute_result"
    }
   ],
   "source": [
    "# Counting the triling 0's present in the factorial numnber \n",
    "\n",
    "# Considering the taiiling 0's is equal ot the number of pair of 5&2.\n",
    "def countZeros(n):\n",
    "    res = 0\n",
    "    i = 5\n",
    "    while i<=n:\n",
    "        res = res+n//i\n",
    "        i = i*5\n",
    "    return res\n",
    "        \n",
    "countZeros(100)"
   ]
  },
  {
   "cell_type": "code",
   "execution_count": 9,
   "id": "53fa1780",
   "metadata": {},
   "outputs": [
    {
     "data": {
      "text/plain": [
       "24"
      ]
     },
     "execution_count": 9,
     "metadata": {},
     "output_type": "execute_result"
    }
   ],
   "source": [
    "# finding the trailing zeros\n",
    "\n",
    "def find(n):\n",
    "    \n",
    "    count = 0\n",
    "    i = 5\n",
    "    \n",
    "    while n/i > 0:\n",
    "        count = count+int(n/i)\n",
    "        i = i*5\n",
    "        \n",
    "    return count\n",
    "\n",
    "find(100)"
   ]
  },
  {
   "cell_type": "markdown",
   "id": "f2049ff1",
   "metadata": {},
   "source": [
    "# Greatest Common Divisor or Highest Common Factor"
   ]
  },
  {
   "cell_type": "code",
   "execution_count": 12,
   "id": "3615b428",
   "metadata": {},
   "outputs": [
    {
     "name": "stdout",
     "output_type": "stream",
     "text": [
      "3\n",
      "3\n"
     ]
    }
   ],
   "source": [
    "# Finding the GCD for 12 and 15 using Euclidean Method\n",
    "# Iterative method\n",
    "def gcd(a, b):\n",
    "    while a!=b:\n",
    "        if a>b:\n",
    "            a = a-b\n",
    "        else:\n",
    "            b = b-a\n",
    "    return a \n",
    "\n",
    "print(gcd(15,12))\n",
    "print(gcd(12,15))"
   ]
  },
  {
   "cell_type": "code",
   "execution_count": 31,
   "id": "de939aa0",
   "metadata": {},
   "outputs": [
    {
     "data": {
      "text/plain": [
       "5"
      ]
     },
     "execution_count": 31,
     "metadata": {},
     "output_type": "execute_result"
    }
   ],
   "source": [
    "# Recursive approach using Euclidean Method\n",
    "\n",
    "def gcd(a, b):\n",
    "    if b==0:\n",
    "        return a\n",
    "    return gcd(b, a%b)\n",
    "\n",
    "gcd(10, 15)"
   ]
  },
  {
   "cell_type": "markdown",
   "id": "16a5403e",
   "metadata": {},
   "source": [
    "# Least Common Multiplier (LCM)"
   ]
  },
  {
   "cell_type": "markdown",
   "id": "d76f9ad8",
   "metadata": {},
   "source": [
    "# <font color=red> (a*b) = gcd(a, b) * lcm(a, b)"
   ]
  },
  {
   "cell_type": "code",
   "execution_count": 26,
   "id": "59779820",
   "metadata": {},
   "outputs": [
    {
     "data": {
      "text/plain": [
       "6"
      ]
     },
     "execution_count": 26,
     "metadata": {},
     "output_type": "execute_result"
    }
   ],
   "source": [
    "# Finding LCM\n",
    "\n",
    "def lcm(a, b):\n",
    "    res = max(a, b)\n",
    "    while True:\n",
    "        if res%a==0 and res%b==0:\n",
    "            return res\n",
    "        res += 1\n",
    "    return res\n",
    "\n",
    "lcm(2, 6)"
   ]
  },
  {
   "cell_type": "code",
   "execution_count": 27,
   "id": "673a11fc",
   "metadata": {},
   "outputs": [
    {
     "data": {
      "text/plain": [
       "6"
      ]
     },
     "execution_count": 27,
     "metadata": {},
     "output_type": "execute_result"
    }
   ],
   "source": [
    "def gcd(a, b):\n",
    "    if b==0:\n",
    "        return a\n",
    "    return gcd(b, a%b)\n",
    "\n",
    "def lcm(a, b):\n",
    "    return a*b // gcd(a, b)\n",
    "\n",
    "lcm(2, 6)"
   ]
  },
  {
   "cell_type": "markdown",
   "id": "7a16e0e1",
   "metadata": {},
   "source": [
    "# Finding a Prime Number"
   ]
  },
  {
   "cell_type": "code",
   "execution_count": 50,
   "id": "9d744577",
   "metadata": {},
   "outputs": [
    {
     "data": {
      "text/plain": [
       "False"
      ]
     },
     "execution_count": 50,
     "metadata": {},
     "output_type": "execute_result"
    }
   ],
   "source": [
    "def num(n):\n",
    "    if n==1:\n",
    "        return False\n",
    "    else :\n",
    "        for i in range(2, n):\n",
    "            if n%i==0:\n",
    "                return False \n",
    "        return True\n",
    "\n",
    "\n",
    "num(65)"
   ]
  },
  {
   "cell_type": "code",
   "execution_count": 56,
   "id": "e431e6f9",
   "metadata": {},
   "outputs": [
    {
     "data": {
      "text/plain": [
       "False"
      ]
     },
     "execution_count": 56,
     "metadata": {},
     "output_type": "execute_result"
    }
   ],
   "source": [
    "def isPrime(n):\n",
    "    if n==1:\n",
    "        return False\n",
    "    i = 2\n",
    "    while i*i<=n:\n",
    "        if n%i==0:\n",
    "            return False\n",
    "        i += 1\n",
    "\n",
    "    return True\n",
    "\n",
    "isPrime(21)"
   ]
  },
  {
   "cell_type": "code",
   "execution_count": 34,
   "id": "f28abbd4",
   "metadata": {},
   "outputs": [
    {
     "data": {
      "text/plain": [
       "True"
      ]
     },
     "execution_count": 34,
     "metadata": {},
     "output_type": "execute_result"
    }
   ],
   "source": [
    "def isPrime(n):\n",
    "    if n==1:\n",
    "        return False\n",
    "    if n==2 or n==3:\n",
    "        return True\n",
    "    if n%2==0 or n%3==0:\n",
    "        return False\n",
    "    i = 5\n",
    "    while i*i<=n:\n",
    "        if n%i==0 or n%(i+2)==0:\n",
    "            return False\n",
    "        i += 6 \n",
    "    return True\n",
    "\n",
    "isPrime(7)"
   ]
  },
  {
   "cell_type": "code",
   "execution_count": null,
   "id": "981ab83d",
   "metadata": {},
   "outputs": [],
   "source": []
  }
 ],
 "metadata": {
  "kernelspec": {
   "display_name": "Python 3 (ipykernel)",
   "language": "python",
   "name": "python3"
  },
  "language_info": {
   "codemirror_mode": {
    "name": "ipython",
    "version": 3
   },
   "file_extension": ".py",
   "mimetype": "text/x-python",
   "name": "python",
   "nbconvert_exporter": "python",
   "pygments_lexer": "ipython3",
   "version": "3.9.12"
  }
 },
 "nbformat": 4,
 "nbformat_minor": 5
}
