{
 "cells": [
  {
   "cell_type": "markdown",
   "id": "f54b3382",
   "metadata": {},
   "source": [
    "# Finding sum of first n natural number"
   ]
  },
  {
   "cell_type": "markdown",
   "id": "ee6d16a8",
   "metadata": {},
   "source": [
    "https://practice.geeksforgeeks.org/batch/ds-with-python/track/analysis-of-algorithms-basics-python/video/MjA1MA%3D%3D"
   ]
  },
  {
   "cell_type": "code",
   "execution_count": 1,
   "id": "47c0c9f0",
   "metadata": {},
   "outputs": [
    {
     "data": {
      "text/plain": [
       "15"
      ]
     },
     "execution_count": 1,
     "metadata": {},
     "output_type": "execute_result"
    }
   ],
   "source": [
    "# method 1\n",
    "\n",
    "def function(n):\n",
    "    s = 0\n",
    "    for i in range(1, n+1):\n",
    "        s = s+i\n",
    "    return s\n",
    "\n",
    "function(5)"
   ]
  },
  {
   "cell_type": "code",
   "execution_count": 2,
   "id": "51e1e76f",
   "metadata": {},
   "outputs": [
    {
     "data": {
      "text/plain": [
       "15.0"
      ]
     },
     "execution_count": 2,
     "metadata": {},
     "output_type": "execute_result"
    }
   ],
   "source": [
    "# method 2\n",
    "\n",
    "def function(n):\n",
    "    return n*(n+1)/2\n",
    "\n",
    "function(5)"
   ]
  },
  {
   "cell_type": "code",
   "execution_count": 20,
   "id": "6ab3ffa4",
   "metadata": {},
   "outputs": [
    {
     "name": "stdout",
     "output_type": "stream",
     "text": [
      "15\n"
     ]
    }
   ],
   "source": [
    "def func(n):\n",
    "    s = 0\n",
    "    for i in range(1, n+1):\n",
    "        for j in range(1, i+1):\n",
    "            s += 1\n",
    "    print(s)\n",
    "        \n",
    "        \n",
    "func(5)"
   ]
  },
  {
   "cell_type": "code",
   "execution_count": 3,
   "id": "fce9be55",
   "metadata": {},
   "outputs": [
    {
     "data": {
      "text/plain": [
       "15"
      ]
     },
     "execution_count": 3,
     "metadata": {},
     "output_type": "execute_result"
    }
   ],
   "source": [
    "# method 2\n",
    "def function(n):\n",
    "    s = 0\n",
    "    for i in range(1, n+1):\n",
    "        for j in range(1, i+1):\n",
    "            s = s+1\n",
    "    return s\n",
    "\n",
    "function(5)"
   ]
  },
  {
   "cell_type": "code",
   "execution_count": 13,
   "id": "feb74a4f",
   "metadata": {},
   "outputs": [
    {
     "data": {
      "text/plain": [
       "21"
      ]
     },
     "execution_count": 13,
     "metadata": {},
     "output_type": "execute_result"
    }
   ],
   "source": [
    "def findSum(n):\n",
    "    sum = 0\n",
    "    x = 1\n",
    "    while x<=n:\n",
    "        sum = sum+x\n",
    "        x = x+1\n",
    "    return sum\n",
    "\n",
    "findSum(6)"
   ]
  },
  {
   "cell_type": "code",
   "execution_count": 18,
   "id": "51599186",
   "metadata": {},
   "outputs": [
    {
     "data": {
      "text/plain": [
       "15.0"
      ]
     },
     "execution_count": 18,
     "metadata": {},
     "output_type": "execute_result"
    }
   ],
   "source": [
    "def findSum(n):\n",
    "    if (n%2)==0:\n",
    "        return (n/2) * (n+1)\n",
    "    else :\n",
    "        return ((n+1)/2)*n\n",
    "    \n",
    "findSum(5)"
   ]
  },
  {
   "cell_type": "markdown",
   "id": "db1267b2",
   "metadata": {},
   "source": [
    "# Mathematics"
   ]
  },
  {
   "cell_type": "markdown",
   "id": "7e05a499",
   "metadata": {},
   "source": [
    "### Absolute Number"
   ]
  },
  {
   "cell_type": "markdown",
   "id": "85189074",
   "metadata": {},
   "source": [
    "https://practice.geeksforgeeks.org/batch/ds-with-python/track/mathematics-basics-python/problem/absolute-value"
   ]
  },
  {
   "cell_type": "markdown",
   "id": "b88ef5e5",
   "metadata": {},
   "source": [
    "######  Counting the digits present in a Number"
   ]
  },
  {
   "cell_type": "code",
   "execution_count": 21,
   "id": "819706ca",
   "metadata": {
    "scrolled": true
   },
   "outputs": [
    {
     "data": {
      "text/plain": [
       "6"
      ]
     },
     "execution_count": 21,
     "metadata": {},
     "output_type": "execute_result"
    }
   ],
   "source": [
    "# counting the digits\n",
    "a = 546456\n",
    "\n",
    "len(str(a))"
   ]
  },
  {
   "cell_type": "code",
   "execution_count": 25,
   "id": "6009706d",
   "metadata": {},
   "outputs": [
    {
     "name": "stdout",
     "output_type": "stream",
     "text": [
      "Enter a Number : 654856584\n"
     ]
    },
    {
     "data": {
      "text/plain": [
       "9"
      ]
     },
     "execution_count": 25,
     "metadata": {},
     "output_type": "execute_result"
    }
   ],
   "source": [
    "# counting the digits\n",
    "\n",
    "x = int(input(\"Enter a Number : \"))\n",
    "\n",
    "count = 0\n",
    "\n",
    "while x>0:\n",
    "    x//=10\n",
    "    count+=1\n",
    "count"
   ]
  },
  {
   "cell_type": "markdown",
   "id": "fe5d5496",
   "metadata": {},
   "source": [
    "# Palindrome Number "
   ]
  },
  {
   "cell_type": "code",
   "execution_count": 34,
   "id": "dfaac575",
   "metadata": {},
   "outputs": [
    {
     "name": "stdout",
     "output_type": "stream",
     "text": [
      "ye Palindrome number nahi hai\n"
     ]
    }
   ],
   "source": [
    "# Checking the Palindrome \n",
    "a = 54566445\n",
    "\n",
    "if a == int(str(a)[::-1]):\n",
    "    print(\"ye Palindrome Number hai\")\n",
    "else :\n",
    "    print(\"ye Palindrome number nahi hai\")"
   ]
  },
  {
   "cell_type": "code",
   "execution_count": 50,
   "id": "6cd6e810",
   "metadata": {},
   "outputs": [
    {
     "data": {
      "text/plain": [
       "True"
      ]
     },
     "execution_count": 50,
     "metadata": {},
     "output_type": "execute_result"
    }
   ],
   "source": [
    "# Checking the Palindrome \n",
    "def isPal(N):\n",
    "    rev = 0\n",
    "    temp = N\n",
    "    while temp != 0:\n",
    "        ld = temp%10\n",
    "        rev = rev*10+ld\n",
    "        temp = temp//10\n",
    "    return rev == N\n",
    "\n",
    "isPal(45654)"
   ]
  },
  {
   "cell_type": "markdown",
   "id": "824b1a7c",
   "metadata": {},
   "source": [
    "# Factorial"
   ]
  },
  {
   "cell_type": "code",
   "execution_count": 10,
   "id": "3819ce72",
   "metadata": {},
   "outputs": [
    {
     "data": {
      "text/plain": [
       "120"
      ]
     },
     "execution_count": 10,
     "metadata": {},
     "output_type": "execute_result"
    }
   ],
   "source": [
    "def fact(n):\n",
    "    if n==0:\n",
    "        return 1\n",
    "    else :\n",
    "        return n*fact(n-1)\n",
    "    \n",
    "fact(5)"
   ]
  },
  {
   "cell_type": "code",
   "execution_count": 2,
   "id": "54d36021",
   "metadata": {},
   "outputs": [
    {
     "data": {
      "text/plain": [
       "120"
      ]
     },
     "execution_count": 2,
     "metadata": {},
     "output_type": "execute_result"
    }
   ],
   "source": [
    "# Finding Factorial\n",
    "\n",
    "def fact(n):\n",
    "    fac = 1\n",
    "    for i in range(1,n+1):\n",
    "        fac = fac*i\n",
    "    return fac\n",
    "        \n",
    "fact(5)"
   ]
  },
  {
   "cell_type": "code",
   "execution_count": 3,
   "id": "29791fe9",
   "metadata": {},
   "outputs": [
    {
     "data": {
      "text/plain": [
       "120"
      ]
     },
     "execution_count": 3,
     "metadata": {},
     "output_type": "execute_result"
    }
   ],
   "source": [
    "# Finding the Factorial\n",
    "def fact(n):\n",
    "    if n==0:\n",
    "        return 1\n",
    "    return fact(n-1)*n\n",
    "\n",
    "fact(5)"
   ]
  },
  {
   "cell_type": "code",
   "execution_count": 4,
   "id": "e0590ebc",
   "metadata": {},
   "outputs": [
    {
     "data": {
      "text/plain": [
       "120"
      ]
     },
     "execution_count": 4,
     "metadata": {},
     "output_type": "execute_result"
    }
   ],
   "source": [
    "# Finding the Factorial\n",
    "def factorial(n):\n",
    "    return 1 if (n==1 or n==0) else n * factorial(n - 1);\n",
    "\n",
    "factorial(5)"
   ]
  },
  {
   "cell_type": "code",
   "execution_count": 1,
   "id": "e48614f2",
   "metadata": {},
   "outputs": [
    {
     "data": {
      "text/plain": [
       "120"
      ]
     },
     "execution_count": 1,
     "metadata": {},
     "output_type": "execute_result"
    }
   ],
   "source": [
    "# Finding the Factorial\n",
    "def factorial(n):\n",
    "    if n < 0:\n",
    "        return 0\n",
    "    elif n == 0 or n == 1:\n",
    "        return 1\n",
    "    else:\n",
    "        fact = 1\n",
    "        while(n > 1):\n",
    "            fact *= n\n",
    "            n -= 1\n",
    "        return fact\n",
    "\n",
    "factorial(5)\n"
   ]
  },
  {
   "cell_type": "code",
   "execution_count": 15,
   "id": "20d80602",
   "metadata": {},
   "outputs": [
    {
     "data": {
      "text/plain": [
       "7"
      ]
     },
     "execution_count": 15,
     "metadata": {},
     "output_type": "execute_result"
    }
   ],
   "source": [
    "# Finding the count of the digits in a factorial\n",
    "def fact(n):\n",
    "    if n==0:\n",
    "        return 1\n",
    "    return n*fact(n-1)\n",
    "\n",
    "def digits(n):\n",
    "    return len(str(fact(n)))\n",
    "\n",
    "digits(10)"
   ]
  },
  {
   "cell_type": "code",
   "execution_count": 15,
   "id": "f5684571",
   "metadata": {},
   "outputs": [
    {
     "data": {
      "text/plain": [
       "3"
      ]
     },
     "execution_count": 15,
     "metadata": {},
     "output_type": "execute_result"
    }
   ],
   "source": [
    "# Finding the count of the digits in a factorial\n",
    "import math\n",
    "def digitsInFactorial(N):\n",
    "    # code here\n",
    "    if N < 0:\n",
    "        return 0\n",
    "    elif N==1 or N==0:\n",
    "        return 1\n",
    "\n",
    "    # Use Stirling's approximation to estimate the value of N!\n",
    "    x = (N * math.log10(N / math.e)) + (math.log10(2 * math.pi * N) / 2)\n",
    "\n",
    "    # Take the floor of the result plus 1 to get the number of digits in N!\n",
    "    return math.floor(x) + 1\n",
    "\n",
    "digitsInFactorial(5)"
   ]
  },
  {
   "cell_type": "code",
   "execution_count": 36,
   "id": "7f35a717",
   "metadata": {},
   "outputs": [
    {
     "name": "stdout",
     "output_type": "stream",
     "text": [
      "24\n"
     ]
    }
   ],
   "source": [
    "# counting the trailing 0's in the a factorial number \n",
    "## Calculating Factorial\n",
    "def fact(n):\n",
    "    f = 1\n",
    "    if n==0:\n",
    "        return 1\n",
    "    return n*fact(n-1)\n",
    "\n",
    "## Counting trailing 0's\n",
    "def count(n):\n",
    "    d = fact(n)\n",
    "    c = 0\n",
    "    while d%10==0:\n",
    "        c+=1\n",
    "        d = d//10\n",
    "    print(c)\n",
    "        \n",
    "count(100)"
   ]
  },
  {
   "cell_type": "code",
   "execution_count": 39,
   "id": "fcda74f4",
   "metadata": {},
   "outputs": [
    {
     "data": {
      "text/plain": [
       "24"
      ]
     },
     "execution_count": 39,
     "metadata": {},
     "output_type": "execute_result"
    }
   ],
   "source": [
    "# counting the trailing 0's in the a factorial number \n",
    "\n",
    "def fact(N):\n",
    "    fac = 1\n",
    "    for i in range(2, N+1):\n",
    "        fac *= i\n",
    "    count = 0\n",
    "    for i in str(fac)[::-1]:\n",
    "        if i==\"0\":\n",
    "            count+=1\n",
    "        else :\n",
    "            break\n",
    "    return count\n",
    "\n",
    "fact(100)"
   ]
  },
  {
   "cell_type": "code",
   "execution_count": 66,
   "id": "621f0050",
   "metadata": {},
   "outputs": [
    {
     "data": {
      "text/plain": [
       "24"
      ]
     },
     "execution_count": 66,
     "metadata": {},
     "output_type": "execute_result"
    }
   ],
   "source": [
    "# Counting the trainling 0's present in the Factorial\n",
    "\n",
    "def countZeros(n):\n",
    "    fact = 1\n",
    "    for i in range(2, n+1):\n",
    "        fact = fact*i\n",
    "    res = 0\n",
    "    while fact%10==0:\n",
    "        res+=1\n",
    "        fact//=10\n",
    "    return res\n",
    "\n",
    "countZeros(100)"
   ]
  },
  {
   "cell_type": "code",
   "execution_count": 8,
   "id": "94e363b1",
   "metadata": {},
   "outputs": [
    {
     "data": {
      "text/plain": [
       "24"
      ]
     },
     "execution_count": 8,
     "metadata": {},
     "output_type": "execute_result"
    }
   ],
   "source": [
    "# Counting the triling 0's present in the factorial numnber \n",
    "\n",
    "# Considering the trailing 0's is equal ot the number of pair of 5&2.\n",
    "def countZeros(n):\n",
    "    res = 0\n",
    "    i = 5\n",
    "    while i<=n:\n",
    "        res = res+n//i\n",
    "        i = i*5\n",
    "    return res\n",
    "        \n",
    "countZeros(100)"
   ]
  },
  {
   "cell_type": "code",
   "execution_count": 9,
   "id": "53fa1780",
   "metadata": {},
   "outputs": [
    {
     "data": {
      "text/plain": [
       "24"
      ]
     },
     "execution_count": 9,
     "metadata": {},
     "output_type": "execute_result"
    }
   ],
   "source": [
    "# finding the trailing zeros\n",
    "\n",
    "def find(n):\n",
    "    \n",
    "    count = 0\n",
    "    i = 5\n",
    "    \n",
    "    while n/i > 0:\n",
    "        count = count+int(n/i)\n",
    "        i = i*5\n",
    "        \n",
    "    return count\n",
    "\n",
    "find(100)"
   ]
  },
  {
   "cell_type": "markdown",
   "id": "f2049ff1",
   "metadata": {},
   "source": [
    "# Greatest Common Divisor or Highest Common Factor"
   ]
  },
  {
   "cell_type": "code",
   "execution_count": 3,
   "id": "ad0b479f",
   "metadata": {},
   "outputs": [
    {
     "data": {
      "text/plain": [
       "3"
      ]
     },
     "execution_count": 3,
     "metadata": {},
     "output_type": "execute_result"
    }
   ],
   "source": [
    "# Euclidean Algorithms\n",
    "\n",
    "def gcd(a, b):\n",
    "    while a != b:\n",
    "        if a>b:\n",
    "            a = a-b\n",
    "        else :\n",
    "            b = b-a\n",
    "    return a\n",
    "        \n",
    "gcd(12,15)"
   ]
  },
  {
   "cell_type": "code",
   "execution_count": 5,
   "id": "4860dee7",
   "metadata": {},
   "outputs": [
    {
     "data": {
      "text/plain": [
       "3"
      ]
     },
     "execution_count": 5,
     "metadata": {},
     "output_type": "execute_result"
    }
   ],
   "source": [
    "def gcd(a, b):\n",
    "    if b==0:\n",
    "        return a\n",
    "    return gcd(b, a%b)\n",
    "\n",
    "gcd(12,15)"
   ]
  },
  {
   "cell_type": "code",
   "execution_count": 12,
   "id": "3615b428",
   "metadata": {},
   "outputs": [
    {
     "name": "stdout",
     "output_type": "stream",
     "text": [
      "3\n",
      "3\n"
     ]
    }
   ],
   "source": [
    "# Finding the GCD for 12 and 15 using Euclidean Method\n",
    "# Iterative method\n",
    "def gcd(a, b):\n",
    "    while a!=b:\n",
    "        if a>b:\n",
    "            a = a-b\n",
    "        else:\n",
    "            b = b-a\n",
    "    return a \n",
    "\n",
    "print(gcd(15,12))"
   ]
  },
  {
   "cell_type": "code",
   "execution_count": 31,
   "id": "de939aa0",
   "metadata": {},
   "outputs": [
    {
     "data": {
      "text/plain": [
       "5"
      ]
     },
     "execution_count": 31,
     "metadata": {},
     "output_type": "execute_result"
    }
   ],
   "source": [
    "# Recursive approach using Euclidean Method\n",
    "\n",
    "def gcd(a, b):\n",
    "    if b==0:\n",
    "        return a\n",
    "    return gcd(b, a%b)\n",
    "\n",
    "gcd(10, 15)"
   ]
  },
  {
   "cell_type": "markdown",
   "id": "16a5403e",
   "metadata": {},
   "source": [
    "# Least Common Multiplier (LCM)"
   ]
  },
  {
   "cell_type": "markdown",
   "id": "d76f9ad8",
   "metadata": {},
   "source": [
    "# <font color=red> (a*b) = gcd(a, b) * lcm(a, b)"
   ]
  },
  {
   "cell_type": "code",
   "execution_count": 1,
   "id": "59779820",
   "metadata": {},
   "outputs": [
    {
     "data": {
      "text/plain": [
       "12"
      ]
     },
     "execution_count": 1,
     "metadata": {},
     "output_type": "execute_result"
    }
   ],
   "source": [
    "# Finding LCM\n",
    "\n",
    "def lcm(a, b):\n",
    "    res = max(a, b)\n",
    "    while True:\n",
    "        if res%a==0 and res%b==0:\n",
    "            return res\n",
    "        res += 1\n",
    "    return res\n",
    "\n",
    "lcm(4, 6)"
   ]
  },
  {
   "cell_type": "code",
   "execution_count": 27,
   "id": "673a11fc",
   "metadata": {},
   "outputs": [
    {
     "data": {
      "text/plain": [
       "6"
      ]
     },
     "execution_count": 27,
     "metadata": {},
     "output_type": "execute_result"
    }
   ],
   "source": [
    "def gcd(a, b):\n",
    "    if b==0:\n",
    "        return a\n",
    "    return gcd(b, a%b)\n",
    "\n",
    "def lcm(a, b):\n",
    "    return a*b // gcd(a, b)\n",
    "\n",
    "lcm(2, 6)"
   ]
  },
  {
   "cell_type": "code",
   "execution_count": null,
   "id": "e9b221dc",
   "metadata": {},
   "outputs": [],
   "source": [
    "def lcm(a, b):\n",
    "    while True:\n",
    "        if b==0:\n",
    "            return a \n",
    "        gcd = lcm(b, a%b)\n",
    "    \n",
    "    return (a*b)//lcm(a, b)\n",
    "\n",
    "lcm(12, 18)"
   ]
  },
  {
   "cell_type": "code",
   "execution_count": 23,
   "id": "ab22a950",
   "metadata": {},
   "outputs": [
    {
     "data": {
      "text/plain": [
       "36"
      ]
     },
     "execution_count": 23,
     "metadata": {},
     "output_type": "execute_result"
    }
   ],
   "source": [
    "def gcd(a, b):\n",
    "    if b==0:\n",
    "        return a\n",
    "    return gcd(b, a%b)\n",
    "    \n",
    "def lcm(a, b):\n",
    "    return (a*b)//gcd(a, b)\n",
    "\n",
    "lcm(12, 18)"
   ]
  },
  {
   "cell_type": "markdown",
   "id": "7a16e0e1",
   "metadata": {},
   "source": [
    "# Finding a Prime Number"
   ]
  },
  {
   "cell_type": "code",
   "execution_count": 19,
   "id": "a1d94d12",
   "metadata": {},
   "outputs": [
    {
     "data": {
      "text/plain": [
       "True"
      ]
     },
     "execution_count": 19,
     "metadata": {},
     "output_type": "execute_result"
    }
   ],
   "source": [
    "def prime(n):\n",
    "    if n==1:\n",
    "        return False\n",
    "    for i in range(2, n):\n",
    "        if n%i==0:\n",
    "            return False\n",
    "    return True\n",
    "        \n",
    "prime(29)"
   ]
  },
  {
   "cell_type": "code",
   "execution_count": 3,
   "id": "9d744577",
   "metadata": {},
   "outputs": [
    {
     "data": {
      "text/plain": [
       "False"
      ]
     },
     "execution_count": 3,
     "metadata": {},
     "output_type": "execute_result"
    }
   ],
   "source": [
    "def num(n):\n",
    "    if n==1:\n",
    "        return False\n",
    "    else :\n",
    "        for i in range(2, n):\n",
    "            if n%i==0:\n",
    "                return False \n",
    "        return True\n",
    "\n",
    "num(27)"
   ]
  },
  {
   "cell_type": "code",
   "execution_count": 29,
   "id": "49aa677b",
   "metadata": {},
   "outputs": [
    {
     "data": {
      "text/plain": [
       "True"
      ]
     },
     "execution_count": 29,
     "metadata": {},
     "output_type": "execute_result"
    }
   ],
   "source": [
    "def prime(n):\n",
    "    if n==1:\n",
    "        return False\n",
    "    if n==2 or n==3:\n",
    "        return True\n",
    "    if n%2==0 or n%3==0:\n",
    "        return False\n",
    "    i = 5 \n",
    "    while i*i<=n:\n",
    "        if n%i==0:\n",
    "            return False\n",
    "        i += 6\n",
    "    return True\n",
    "\n",
    "prime(17) "
   ]
  },
  {
   "cell_type": "code",
   "execution_count": 19,
   "id": "2a7f23e8",
   "metadata": {},
   "outputs": [
    {
     "data": {
      "text/plain": [
       "True"
      ]
     },
     "execution_count": 19,
     "metadata": {},
     "output_type": "execute_result"
    }
   ],
   "source": [
    "def prime(n):\n",
    "    if n==1:\n",
    "        return False\n",
    "    i = 2\n",
    "    while i*i<=n:\n",
    "        if n%i==0:\n",
    "            return False\n",
    "        i+=1\n",
    "    return True\n",
    "    \n",
    "prime(23)"
   ]
  },
  {
   "cell_type": "code",
   "execution_count": 14,
   "id": "e431e6f9",
   "metadata": {},
   "outputs": [
    {
     "data": {
      "text/plain": [
       "False"
      ]
     },
     "execution_count": 14,
     "metadata": {},
     "output_type": "execute_result"
    }
   ],
   "source": [
    "def isPrime(n):\n",
    "    if n==1:\n",
    "        return False\n",
    "    i = 2\n",
    "    while i*i<=n:\n",
    "        if n%i==0:\n",
    "            return False\n",
    "        i += 1\n",
    "\n",
    "    return True\n",
    "\n",
    "isPrime(25)"
   ]
  },
  {
   "cell_type": "code",
   "execution_count": 34,
   "id": "f28abbd4",
   "metadata": {},
   "outputs": [
    {
     "data": {
      "text/plain": [
       "True"
      ]
     },
     "execution_count": 34,
     "metadata": {},
     "output_type": "execute_result"
    }
   ],
   "source": [
    "def isPrime(n):\n",
    "    if n==1:\n",
    "        return False\n",
    "    if n==2 or n==3:\n",
    "        return True\n",
    "    if n%2==0 or n%3==0:\n",
    "        return False\n",
    "    i = 5\n",
    "    while i*i<=n:\n",
    "        if n%i==0 or n%(i+2)==0:\n",
    "            return False\n",
    "        i += 6 \n",
    "    return True\n",
    "\n",
    "isPrime(7)"
   ]
  },
  {
   "cell_type": "markdown",
   "id": "42a1079a",
   "metadata": {},
   "source": [
    "# Prime Factorization"
   ]
  },
  {
   "cell_type": "code",
   "execution_count": 7,
   "id": "8b1471a9",
   "metadata": {},
   "outputs": [
    {
     "name": "stdout",
     "output_type": "stream",
     "text": [
      "2 2 7 "
     ]
    }
   ],
   "source": [
    "def prime(n):\n",
    "    if n==1:return False\n",
    "    if n==2 or n==3: return True\n",
    "    if n%2==0 or n%3==0 : return False\n",
    "    i = 5\n",
    "    while i*i<=n:\n",
    "        if n%i==0:\n",
    "            return False\n",
    "        i+=6\n",
    "    return True\n",
    "\n",
    "def primeFactor(n):\n",
    "    for i in range(2, n+1):\n",
    "        if prime(i):\n",
    "            x = i\n",
    "            while n%x==0:\n",
    "                print(i, end=\" \")\n",
    "                x = x*i\n",
    "            \n",
    "primeFactor(28)"
   ]
  },
  {
   "cell_type": "code",
   "execution_count": 13,
   "id": "64cb0315",
   "metadata": {},
   "outputs": [
    {
     "name": "stdout",
     "output_type": "stream",
     "text": [
      "2\n",
      "2\n",
      "2\n",
      "3\n",
      "5\n"
     ]
    }
   ],
   "source": [
    "def isPrime(x):\n",
    "    for i in range(2, x):\n",
    "        if x%i==0 :\n",
    "            return False\n",
    "    return True\n",
    "\n",
    "def primeFact(n):\n",
    "    for i in range(2, n+1):\n",
    "        if isPrime(i):\n",
    "            x=i\n",
    "            while n%x==0:\n",
    "                print(i)\n",
    "                x = x*i\n",
    "\n",
    "primeFact(120)"
   ]
  },
  {
   "cell_type": "code",
   "execution_count": 14,
   "id": "bf5c756a",
   "metadata": {},
   "outputs": [
    {
     "name": "stdout",
     "output_type": "stream",
     "text": [
      "2 2 5 5 "
     ]
    }
   ],
   "source": [
    "import math \n",
    "def primeFact(n):\n",
    "    while n%2==0:\n",
    "        print(2, end=\" \")\n",
    "        n = n/2\n",
    "    \n",
    "    for i in range(3, int(math.sqrt(n))+1, 2):\n",
    "        while n%i==0:\n",
    "            print(i, end=\" \")\n",
    "            n=n/i\n",
    "            \n",
    "    if n>2:\n",
    "        print(n, end=\" \")\n",
    "        \n",
    "primeFact(100)"
   ]
  },
  {
   "cell_type": "markdown",
   "id": "6a5a0562",
   "metadata": {},
   "source": [
    "# All Divisors of a Number"
   ]
  },
  {
   "cell_type": "code",
   "execution_count": 19,
   "id": "2393db73",
   "metadata": {},
   "outputs": [
    {
     "name": "stdout",
     "output_type": "stream",
     "text": [
      "1 2 4 5 10 20 25 50 100 "
     ]
    }
   ],
   "source": [
    "def div(n):\n",
    "    for i in range(1, n+1):\n",
    "        if n%i==0:\n",
    "            print(i, end=\" \")\n",
    "\n",
    "div(100)"
   ]
  },
  {
   "cell_type": "code",
   "execution_count": 17,
   "id": "ba54492c",
   "metadata": {},
   "outputs": [
    {
     "name": "stdout",
     "output_type": "stream",
     "text": [
      "1 2 4 5 10 20 25 50 100 "
     ]
    }
   ],
   "source": [
    "def divisors(n):\n",
    "    for i in range(1, n+1):\n",
    "        if n%i==0:\n",
    "            print(i, end=\" \")\n",
    "            \n",
    "divisors(100)"
   ]
  },
  {
   "cell_type": "code",
   "execution_count": 52,
   "id": "0eea5537",
   "metadata": {},
   "outputs": [
    {
     "name": "stdout",
     "output_type": "stream",
     "text": [
      "1 2 3 5 6 9 9 10 15 18 30 45 90 "
     ]
    }
   ],
   "source": [
    "# Efficient Way\n",
    "def divisors(n):\n",
    "    i = 1\n",
    "    while i*i<n:\n",
    "        if n%i==0:\n",
    "            print(i, end=' ')\n",
    "        i+=1\n",
    "    while i>=1:\n",
    "        if n%i==0:\n",
    "            print(n//i, end=' ')\n",
    "        i-=1\n",
    "    \n",
    "divisors(90)"
   ]
  },
  {
   "cell_type": "code",
   "execution_count": 54,
   "id": "3a97bd6d",
   "metadata": {},
   "outputs": [
    {
     "name": "stdout",
     "output_type": "stream",
     "text": [
      "1 2 4 5 10 20 25 50 100 "
     ]
    }
   ],
   "source": [
    "def divisors(n):\n",
    "    i = 1\n",
    "    while i<=n:\n",
    "        if n%i==0:\n",
    "            print(i, end=' ')\n",
    "        i += 1\n",
    "        \n",
    "divisors(100)"
   ]
  },
  {
   "cell_type": "code",
   "execution_count": 1,
   "id": "6019b4ea",
   "metadata": {},
   "outputs": [
    {
     "name": "stdout",
     "output_type": "stream",
     "text": [
      "1 100 2 50 4 25 5 20 10 "
     ]
    }
   ],
   "source": [
    "import math\n",
    "\n",
    "def divisors(n):\n",
    "    i = 1\n",
    "    while i<=math.sqrt(n):\n",
    "        if n%i == 0:\n",
    "            if n/i==i:\n",
    "                print(i, end=' ')\n",
    "            else : \n",
    "                print(i, n//i, end=' ')\n",
    "        i += 1\n",
    "    \n",
    "divisors(100)"
   ]
  },
  {
   "cell_type": "markdown",
   "id": "ea878020",
   "metadata": {},
   "source": [
    "# Sieve of Eratosthenes"
   ]
  },
  {
   "cell_type": "code",
   "execution_count": 9,
   "id": "22871e57",
   "metadata": {},
   "outputs": [
    {
     "name": "stdout",
     "output_type": "stream",
     "text": [
      "2 3 5 7 11 13 17 19 23 29 31 37 41 43 47 53 "
     ]
    }
   ],
   "source": [
    "# Finding all Prime and Composite number till n\n",
    "\n",
    "def isPrime(n):\n",
    "    if n==1:\n",
    "        return False\n",
    "    if n==2 or n==3:\n",
    "        return True\n",
    "    if n%2==0 or n%3==0:\n",
    "        return False\n",
    "    i = 5\n",
    "    while i*i <= n:\n",
    "        if n%i==0 or n%(i+2)==0:\n",
    "            return False\n",
    "        i+=6\n",
    "    return True\n",
    "\n",
    "def primes(n):\n",
    "    for i in range(2, n+1):\n",
    "        if isPrime(i):\n",
    "            print(i, end=\" \")\n",
    "            \n",
    "primes(54)"
   ]
  },
  {
   "cell_type": "code",
   "execution_count": 14,
   "id": "70c44c6a",
   "metadata": {},
   "outputs": [
    {
     "name": "stdout",
     "output_type": "stream",
     "text": [
      "2 3 5 7 11 13 17 19 23 29 31 37 41 43 47 53 "
     ]
    }
   ],
   "source": [
    "# efficient code\n",
    "\n",
    "def sieve(n):\n",
    "    if n<=1:\n",
    "        return \n",
    "    isPrime = [True]*(n+1)\n",
    "    \n",
    "    i=2\n",
    "    while i*i <=n:\n",
    "        if isPrime[i]:\n",
    "            for j in range(2*i, n+1, i):\n",
    "                isPrime[j] = False\n",
    "        i +=1\n",
    "    for i in range(2, n+1):\n",
    "        if isPrime[i]:\n",
    "            print(i, end=\" \")\n",
    "\n",
    "sieve(54)"
   ]
  },
  {
   "cell_type": "code",
   "execution_count": 15,
   "id": "5a4efd0c",
   "metadata": {},
   "outputs": [
    {
     "name": "stdout",
     "output_type": "stream",
     "text": [
      "2 3 5 7 11 13 17 19 23 29 31 37 41 43 47 53 "
     ]
    }
   ],
   "source": [
    "# More Optimized Implementation\n",
    "\n",
    "def sieve(n):\n",
    "    if n<=1:\n",
    "        return \n",
    "    isPrime = [True]*(n+1)\n",
    "    i = 2\n",
    "    while i<= n:\n",
    "        if isPrime[i]:\n",
    "            print(i, end=\" \")\n",
    "            for j in range(i*i, n+1, i):\n",
    "                isPrime[j] = False\n",
    "        i +=1\n",
    "\n",
    "sieve(54)"
   ]
  },
  {
   "cell_type": "code",
   "execution_count": 34,
   "id": "b7fdcee7",
   "metadata": {},
   "outputs": [
    {
     "name": "stdout",
     "output_type": "stream",
     "text": [
      "Following are the prime numbers smaller\n",
      "than or equal to 54\n",
      "2 3 5 7 11 13 17 19 23 29 31 37 41 43 47 53 "
     ]
    }
   ],
   "source": [
    "# Python program to print all Primes Smaller\n",
    "# than or equal to N using Sieve of Eratosthenes\n",
    "\n",
    "\n",
    "def SieveOfEratosthenes(num):\n",
    "    prime = [True for i in range(num+1)]\n",
    "    # boolean array\n",
    "    p = 2\n",
    "    while (p * p <= num):\n",
    "\n",
    "        # If prime[p] is not\n",
    "        # changed, then it is a prime\n",
    "        if (prime[p] == True):\n",
    "\n",
    "            # Updating all multiples of p\n",
    "            for i in range(p * p, num+1, p):\n",
    "                prime[i] = False\n",
    "        p += 1\n",
    "\n",
    "    # Print all prime numbers\n",
    "    for p in range(2, num+1):\n",
    "        if prime[p]:\n",
    "            print(p, end=\" \")\n",
    "\n",
    "\n",
    "# Driver code\n",
    "if __name__ == '__main__':\n",
    "    num = 54\n",
    "    print(\"Following are the prime numbers smaller\"),\n",
    "    print(\"than or equal to\", num)\n",
    "    SieveOfEratosthenes(num)\n"
   ]
  },
  {
   "cell_type": "markdown",
   "id": "c6439587",
   "metadata": {},
   "source": [
    "#  Power Computation"
   ]
  },
  {
   "cell_type": "code",
   "execution_count": 17,
   "id": "806bf064",
   "metadata": {},
   "outputs": [
    {
     "data": {
      "text/plain": [
       "8"
      ]
     },
     "execution_count": 17,
     "metadata": {},
     "output_type": "execute_result"
    }
   ],
   "source": [
    "# a^b\n",
    "\n",
    "def pow(a, b):\n",
    "    return a**b\n",
    "\n",
    "pow(2, 3)"
   ]
  },
  {
   "cell_type": "code",
   "execution_count": 19,
   "id": "4b2470bc",
   "metadata": {},
   "outputs": [
    {
     "data": {
      "text/plain": [
       "32"
      ]
     },
     "execution_count": 19,
     "metadata": {},
     "output_type": "execute_result"
    }
   ],
   "source": [
    "# nive\n",
    "def pow(a, b):\n",
    "    res = 1\n",
    "    for i in range(b):\n",
    "        res = res*a\n",
    "    return res\n",
    "\n",
    "pow(2, 5)"
   ]
  },
  {
   "cell_type": "code",
   "execution_count": 23,
   "id": "fc4f3779",
   "metadata": {},
   "outputs": [
    {
     "data": {
      "text/plain": [
       "64"
      ]
     },
     "execution_count": 23,
     "metadata": {},
     "output_type": "execute_result"
    }
   ],
   "source": [
    "# More Optimesed\n",
    "\n",
    "def pow(x, n):\n",
    "    if n==0:\n",
    "        return 1\n",
    "    temp = pow(x, n//2)\n",
    "    temp = temp*temp\n",
    "    \n",
    "    if  n%2==0:\n",
    "        return temp\n",
    "    else :\n",
    "        return temp*x\n",
    "    \n",
    "pow(2, 6)"
   ]
  },
  {
   "cell_type": "code",
   "execution_count": 5,
   "id": "dc5fdc1e",
   "metadata": {},
   "outputs": [
    {
     "name": "stdout",
     "output_type": "stream",
     "text": [
      "2\n",
      "4\n",
      "8\n",
      "16\n",
      "32\n"
     ]
    }
   ],
   "source": [
    "def pow(x, n):\n",
    "    res = 1\n",
    "    for i in range(n):\n",
    "        res = res*x\n",
    "        print(res)\n",
    "        \n",
    "pow(2, 5)"
   ]
  },
  {
   "cell_type": "markdown",
   "id": "266fd865",
   "metadata": {},
   "source": [
    "# Iterative Power (Binary Exponentiation)"
   ]
  },
  {
   "cell_type": "code",
   "execution_count": 25,
   "id": "3ad2b1c1",
   "metadata": {},
   "outputs": [
    {
     "data": {
      "text/plain": [
       "729"
      ]
     },
     "execution_count": 25,
     "metadata": {},
     "output_type": "execute_result"
    }
   ],
   "source": [
    "def pow(x, n):\n",
    "    res = 1\n",
    "    while n>0:\n",
    "        if n%2 != 0:\n",
    "            res = res*x\n",
    "        x = x*x\n",
    "        n = n//2\n",
    "    return res\n",
    "\n",
    "pow(3, 6)"
   ]
  },
  {
   "cell_type": "code",
   "execution_count": 28,
   "id": "787cc4fa",
   "metadata": {},
   "outputs": [
    {
     "data": {
      "text/plain": [
       "729"
      ]
     },
     "execution_count": 28,
     "metadata": {},
     "output_type": "execute_result"
    }
   ],
   "source": [
    "# Using logic operator (& and >>)\n",
    "def pow(x, n):\n",
    "    res = 1\n",
    "    while n > 0:\n",
    "        if n & 1:\n",
    "            res = res*x\n",
    "        x = x*x\n",
    "        n = n >> 1\n",
    "    return res\n",
    "\n",
    "pow(3, 6)"
   ]
  },
  {
   "cell_type": "code",
   "execution_count": 31,
   "id": "c9234a64",
   "metadata": {},
   "outputs": [
    {
     "data": {
      "text/plain": [
       "4"
      ]
     },
     "execution_count": 31,
     "metadata": {},
     "output_type": "execute_result"
    }
   ],
   "source": [
    "# In case intervier asked for modular number instead of large powerd number.\n",
    "\n",
    "def pow(x, n, m):\n",
    "    res = 1\n",
    "    while n > 0:\n",
    "        if n & 1:\n",
    "            res = (res*x) % m\n",
    "        x = (x*x) % m\n",
    "        n = n >> 1\n",
    "    return res\n",
    "\n",
    "pow(3, 6, 5)"
   ]
  },
  {
   "cell_type": "code",
   "execution_count": 14,
   "id": "c6568135",
   "metadata": {},
   "outputs": [
    {
     "data": {
      "text/plain": [
       "1"
      ]
     },
     "execution_count": 14,
     "metadata": {},
     "output_type": "execute_result"
    }
   ],
   "source": [
    "import math\n",
    "\n",
    "def countNumbersWith3Divisors(N):\n",
    "    count = 0\n",
    "    \n",
    "    for i in range(2, N+1):\n",
    "        divisors = 0\n",
    "        \n",
    "        for j in range(1, int(math.sqrt(i))+1):\n",
    "            if i%j == 0:\n",
    "                if i/j == j:\n",
    "                    divisors += 1\n",
    "                else:\n",
    "                    divisors += 2\n",
    "        \n",
    "        if divisors == 3:\n",
    "            count += 1\n",
    "    return count\n",
    "\n",
    "countNumbersWith3Divisors(6)"
   ]
  },
  {
   "cell_type": "code",
   "execution_count": null,
   "id": "c19e4874",
   "metadata": {},
   "outputs": [],
   "source": []
  }
 ],
 "metadata": {
  "kernelspec": {
   "display_name": "Python 3 (ipykernel)",
   "language": "python",
   "name": "python3"
  },
  "language_info": {
   "codemirror_mode": {
    "name": "ipython",
    "version": 3
   },
   "file_extension": ".py",
   "mimetype": "text/x-python",
   "name": "python",
   "nbconvert_exporter": "python",
   "pygments_lexer": "ipython3",
   "version": "3.9.12"
  }
 },
 "nbformat": 4,
 "nbformat_minor": 5
}
